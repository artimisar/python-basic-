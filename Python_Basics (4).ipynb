{
  "nbformat": 4,
  "nbformat_minor": 0,
  "metadata": {
    "colab": {
      "provenance": []
    },
    "kernelspec": {
      "name": "python3",
      "display_name": "Python 3"
    },
    "language_info": {
      "name": "python"
    }
  },
  "cells": [
    {
      "cell_type": "markdown",
      "source": [
        "#Function\n"
      ],
      "metadata": {
        "id": "v4Q3c7sI7A3I"
      }
    },
    {
      "cell_type": "markdown",
      "source": [
        "1.What is Python and why is it popular?\n",
        "\n",
        "*   Python is high level , interpreted programming language known for its simplicity and readability. It is popular because of its easy syntax, extensive libraries, and versatility in applications like web development, data science, AI, and automation.\n",
        "\n",
        "2.What is an interpreter in Python?\n",
        "\n",
        "*  An interpreter is a program that executes Python code line by line, translating it into machine-readable instructions without needing compilation.\n",
        "\n",
        "3.What are pre-defined keywords in Python?\n",
        "\n",
        "\n",
        "*   Keywords are reserved words in Python with special meanings, such as if, else, while, for, def, return, etc. They cannot be used as variable names.\n",
        "\n",
        "4.Can keywords be used as variable names?\n",
        "\n",
        "*\n",
        "\n",
        "No, keywords cannot be used as variable names since they have predefined meanings in Python.\n",
        "\n",
        "\n",
        "\n",
        "5.What is mutability in Python?\n",
        "\n",
        "\n",
        "\n",
        "*   Mutability refers to whether an object’s value can be changed after creation. Mutable objects (e.g., lists) can be changed, while immutable objects (e.g., tuples, strings) cannot.\n",
        "\n",
        "\n",
        "\n",
        "\n",
        "\n",
        "6.Why are lists mutable, but tuples are immutable?\n",
        "\n",
        "\n",
        "*   Lists are mutable because they are ordered collection data  designed to be modified frequently. Tuples are unordered collection data immutable for efficiency and security, as they consume less memory and prevent accidental modificat\n",
        "\n",
        "\n",
        "7.What is the difference between == and is operators in Python?\n",
        "\n",
        "\n",
        "*   == checks for value equality, while is checks for identity (whether two variables refer to the same object in memory).\n",
        "\n",
        "8.What are logical operators in Python?\n",
        "\n",
        "\n",
        "*  Logical operators are used for boolean logic\n",
        "\n",
        "    1. and (both conditions must be true)\n",
        "\n",
        "    2.or (at least one condition must be true)\n",
        "   \n",
        "    3.not (negates a condition)\n",
        "9.What is type casting in Python?\n",
        "\n",
        "\n",
        "*   Type casting converts a variable from one data type to another, like converting a string to an integer.\n",
        "\n",
        "\n",
        "10.What is the difference between implicit and explicit type casting?\n",
        "\n",
        "\n",
        "\n",
        "*   Implicit type casting is done automatically by Python when it converts a smaller data type to a larger one (e.g., int to float).\n",
        "\n",
        "\n",
        "*\n",
        "Explicit type casting requires manual conversion using functions like int(), float(), or str().\n",
        "\n",
        "\n",
        "11.What is the purpose of conditional statements in Python?\n",
        "\n",
        "\n",
        "* Conditional statements (if, elif, else) control the program flow based on conditions.\n",
        "\n",
        "12.How does the elif statement work?\n",
        "\n",
        "\n",
        "*  The elif statement allows multiple conditions to be checked in an if-elif-else structure. If an if condition is false, the program checks the elif conditions sequentially.\n",
        "\n",
        "13.What is the difference between for and while loops?\n",
        "\n",
        "\n",
        "*   A for loop is used when the number of iterations is known\n",
        "\n",
        "\n",
        "\n",
        "*   A while loop is used when iterations depend on a condition being true.\n",
        "\n",
        "\n",
        "14.Describe a scenario where a while loop is more suitable than a for loop.\n",
        "\n",
        "\n",
        "*  A while loop is better when the number of iterations is unknown, such as taking user input until they enter a specific value.\n",
        "\n",
        "\n",
        "\n",
        "\n",
        "\n",
        "\n",
        "\n",
        "\n"
      ],
      "metadata": {
        "id": "rrbk3nv57J6t"
      }
    },
    {
      "cell_type": "markdown",
      "source": [],
      "metadata": {
        "id": "ZCp-UfChZRY_"
      }
    },
    {
      "cell_type": "code",
      "source": [
        "#1.  Write a Python program to print \"Hello, World!\n",
        "print(\"Hello, World!\")\n"
      ],
      "metadata": {
        "colab": {
          "base_uri": "https://localhost:8080/"
        },
        "id": "T4DNTi8O8SXY",
        "outputId": "321abbe2-f25a-4d97-90ca-8c2b7103be04"
      },
      "execution_count": null,
      "outputs": [
        {
          "output_type": "stream",
          "name": "stdout",
          "text": [
            "Hello, World!\n"
          ]
        }
      ]
    },
    {
      "cell_type": "code",
      "source": [
        "#2.Write a Python program that displays your name and age?\n",
        "age=input(\"please enter your age:\")"
      ],
      "metadata": {
        "colab": {
          "base_uri": "https://localhost:8080/"
        },
        "id": "euDkmCKbKvJI",
        "outputId": "51c9c2c0-9960-471f-e69a-8794b4d9f1b0"
      },
      "execution_count": null,
      "outputs": [
        {
          "name": "stdout",
          "output_type": "stream",
          "text": [
            "please enter your age:29\n"
          ]
        }
      ]
    },
    {
      "cell_type": "code",
      "source": [
        "name"
      ],
      "metadata": {
        "colab": {
          "base_uri": "https://localhost:8080/",
          "height": 36
        },
        "id": "bP_EfVEjK8Mq",
        "outputId": "7f32fdd2-e97c-439d-dda8-6ae63e6e7887"
      },
      "execution_count": null,
      "outputs": [
        {
          "output_type": "execute_result",
          "data": {
            "text/plain": [
              "'arti'"
            ],
            "application/vnd.google.colaboratory.intrinsic+json": {
              "type": "string"
            }
          },
          "metadata": {},
          "execution_count": 8
        }
      ]
    },
    {
      "cell_type": "code",
      "source": [
        "age"
      ],
      "metadata": {
        "colab": {
          "base_uri": "https://localhost:8080/",
          "height": 36
        },
        "id": "XYudzb6gLJSo",
        "outputId": "6f8d9849-1e19-4d48-ff01-46af9e68fc8c"
      },
      "execution_count": null,
      "outputs": [
        {
          "output_type": "execute_result",
          "data": {
            "text/plain": [
              "'29'"
            ],
            "application/vnd.google.colaboratory.intrinsic+json": {
              "type": "string"
            }
          },
          "metadata": {},
          "execution_count": 10
        }
      ]
    },
    {
      "cell_type": "code",
      "source": [
        "#3.Write code to print all the pre-defined keywords in Python using the keyword library?\n",
        "help('keywords')"
      ],
      "metadata": {
        "colab": {
          "base_uri": "https://localhost:8080/"
        },
        "id": "YjNcNZMABDKM",
        "outputId": "647a41d2-3caf-48ce-8954-b05aaee04e7c"
      },
      "execution_count": null,
      "outputs": [
        {
          "output_type": "stream",
          "name": "stdout",
          "text": [
            "\n",
            "Here is a list of the Python keywords.  Enter any keyword to get more help.\n",
            "\n",
            "False               class               from                or\n",
            "None                continue            global              pass\n",
            "True                def                 if                  raise\n",
            "and                 del                 import              return\n",
            "as                  elif                in                  try\n",
            "assert              else                is                  while\n",
            "async               except              lambda              with\n",
            "await               finally             nonlocal            yield\n",
            "break               for                 not                 \n",
            "\n"
          ]
        }
      ]
    },
    {
      "cell_type": "code",
      "source": [
        "#4.Write a program that checks if a given word is a Python keyword.\n",
        "if 6>4:\n",
        "  print(\"greater\")"
      ],
      "metadata": {
        "colab": {
          "base_uri": "https://localhost:8080/"
        },
        "id": "KNnlpVhLB4oh",
        "outputId": "8d95a7a2-395d-4166-bd48-77a6a5a67fc0"
      },
      "execution_count": null,
      "outputs": [
        {
          "output_type": "stream",
          "name": "stdout",
          "text": [
            "greater\n"
          ]
        }
      ]
    },
    {
      "cell_type": "code",
      "source": [
        " #5.Create a list and tuple in Python, and demonstrate how attempting to change an element works differently\n",
        "for each\n",
        "list=[1,2,3,4]\n",
        "list[0]\n"
      ],
      "metadata": {
        "colab": {
          "base_uri": "https://localhost:8080/",
          "height": 106
        },
        "id": "K7TKhgsaC0_7",
        "outputId": "67dab9f5-57fc-4985-d2bb-7455b600ebcf"
      },
      "execution_count": 22,
      "outputs": [
        {
          "output_type": "error",
          "ename": "SyntaxError",
          "evalue": "invalid syntax (<ipython-input-22-868afa3ac49b>, line 2)",
          "traceback": [
            "\u001b[0;36m  File \u001b[0;32m\"<ipython-input-22-868afa3ac49b>\"\u001b[0;36m, line \u001b[0;32m2\u001b[0m\n\u001b[0;31m    for each\u001b[0m\n\u001b[0m            ^\u001b[0m\n\u001b[0;31mSyntaxError\u001b[0m\u001b[0;31m:\u001b[0m invalid syntax\n"
          ]
        }
      ]
    },
    {
      "cell_type": "code",
      "source": [
        "#6.Write a function to demonstrate the behavior of mutable and immutable arguments"
      ],
      "metadata": {
        "colab": {
          "base_uri": "https://localhost:8080/",
          "height": 106
        },
        "id": "i0bN26fwkNpj",
        "outputId": "8e656aaa-18b2-4c36-edae-685dd57ca1b8"
      },
      "execution_count": 19,
      "outputs": [
        {
          "output_type": "error",
          "ename": "SyntaxError",
          "evalue": "invalid syntax (<ipython-input-19-8836c136b7c5>, line 2)",
          "traceback": [
            "\u001b[0;36m  File \u001b[0;32m\"<ipython-input-19-8836c136b7c5>\"\u001b[0;36m, line \u001b[0;32m2\u001b[0m\n\u001b[0;31m    def modify_list(my list)\u001b[0m\n\u001b[0m                       ^\u001b[0m\n\u001b[0;31mSyntaxError\u001b[0m\u001b[0;31m:\u001b[0m invalid syntax\n"
          ]
        }
      ]
    },
    {
      "cell_type": "code",
      "source": [
        "#7.Write a program that performs basic arithmetic operations on two user-input numbers\n",
        "a=2\n",
        "b=3\n",
        "c=a+b\n",
        "print(c)"
      ],
      "metadata": {
        "colab": {
          "base_uri": "https://localhost:8080/"
        },
        "id": "0oYs4ROwcy0x",
        "outputId": "665a1c31-c1ff-4264-9d3f-9c808b3fed7b"
      },
      "execution_count": 1,
      "outputs": [
        {
          "output_type": "stream",
          "name": "stdout",
          "text": [
            "5\n"
          ]
        }
      ]
    },
    {
      "cell_type": "code",
      "source": [
        "a=3\n",
        "b=2\n",
        "c=a-b\n",
        "print(c)"
      ],
      "metadata": {
        "colab": {
          "base_uri": "https://localhost:8080/"
        },
        "id": "0A86UpAYdrMx",
        "outputId": "c17105b8-dffb-4293-d8d6-85734cb247d4"
      },
      "execution_count": 2,
      "outputs": [
        {
          "output_type": "stream",
          "name": "stdout",
          "text": [
            "1\n"
          ]
        }
      ]
    },
    {
      "cell_type": "code",
      "source": [
        "#8.Write a program to demonstrate the use of logical operators\n",
        "a=True\n",
        "b=False\n",
        "c=a and b\n",
        "print(c)"
      ],
      "metadata": {
        "colab": {
          "base_uri": "https://localhost:8080/"
        },
        "id": "IWuisl_ld_10",
        "outputId": "2374649a-8c51-4492-bba8-010158e3b888"
      },
      "execution_count": 4,
      "outputs": [
        {
          "output_type": "stream",
          "name": "stdout",
          "text": [
            "False\n"
          ]
        }
      ]
    },
    {
      "cell_type": "code",
      "source": [],
      "metadata": {
        "id": "RLMDpCVuekX8"
      },
      "execution_count": 6,
      "outputs": []
    },
    {
      "cell_type": "code",
      "source": [
        "#8.Write a program to demonstrate the use of logical operators\n",
        "a=True\n",
        "b=False\n",
        "c=a or b\n",
        "print(c)"
      ],
      "metadata": {
        "colab": {
          "base_uri": "https://localhost:8080/"
        },
        "outputId": "9b4d698f-7f67-47b8-bd87-9b053bdbf0d3",
        "id": "doplLBAlezK_"
      },
      "execution_count": 7,
      "outputs": [
        {
          "output_type": "stream",
          "name": "stdout",
          "text": [
            "True\n"
          ]
        }
      ]
    },
    {
      "cell_type": "code",
      "source": [
        "#9.Write a Python program to convert user input from string to integer, float, and boolean types.\n",
        "a=\"5\"\n",
        "type(a)"
      ],
      "metadata": {
        "colab": {
          "base_uri": "https://localhost:8080/"
        },
        "id": "hVZBVjDYe288",
        "outputId": "5a0210b1-84ec-403d-886e-49e809f63fe3"
      },
      "execution_count": 8,
      "outputs": [
        {
          "output_type": "execute_result",
          "data": {
            "text/plain": [
              "str"
            ]
          },
          "metadata": {},
          "execution_count": 8
        }
      ]
    },
    {
      "cell_type": "code",
      "source": [
        "a=\"5\"\n",
        "int(a)"
      ],
      "metadata": {
        "colab": {
          "base_uri": "https://localhost:8080/"
        },
        "id": "Dds1OvwNfPOd",
        "outputId": "6db409a1-554e-453d-ef66-707e1d812dad"
      },
      "execution_count": 9,
      "outputs": [
        {
          "output_type": "execute_result",
          "data": {
            "text/plain": [
              "5"
            ]
          },
          "metadata": {},
          "execution_count": 9
        }
      ]
    },
    {
      "cell_type": "code",
      "source": [
        "a=\"5\"\n",
        "float(a)"
      ],
      "metadata": {
        "colab": {
          "base_uri": "https://localhost:8080/"
        },
        "id": "pgBBXJ4EfbWF",
        "outputId": "8c0322e1-16e0-4a95-9878-1d651d30938d"
      },
      "execution_count": 10,
      "outputs": [
        {
          "output_type": "execute_result",
          "data": {
            "text/plain": [
              "5.0"
            ]
          },
          "metadata": {},
          "execution_count": 10
        }
      ]
    },
    {
      "cell_type": "code",
      "source": [
        "a=\"5\"\n",
        "bool(a)"
      ],
      "metadata": {
        "colab": {
          "base_uri": "https://localhost:8080/"
        },
        "id": "v1CJMIlbflIa",
        "outputId": "f0e26694-afad-4669-83ca-7f97930b7df7"
      },
      "execution_count": 11,
      "outputs": [
        {
          "output_type": "execute_result",
          "data": {
            "text/plain": [
              "True"
            ]
          },
          "metadata": {},
          "execution_count": 11
        }
      ]
    },
    {
      "cell_type": "code",
      "source": [
        "#10.Write code to demonstrate type casting with list elements.\n",
        "int_list=[1,2,3]\n",
        "str_list=[str(num) for num in int_list]\n",
        "print(str_list)"
      ],
      "metadata": {
        "colab": {
          "base_uri": "https://localhost:8080/"
        },
        "id": "_wdf1dhyfrj6",
        "outputId": "37944c15-2767-409b-9524-bcc6cc149524"
      },
      "execution_count": 12,
      "outputs": [
        {
          "output_type": "stream",
          "name": "stdout",
          "text": [
            "['1', '2', '3']\n"
          ]
        }
      ]
    },
    {
      "cell_type": "code",
      "source": [
        "#11. Write a program that checks if a number is positive, negative, or zero\n",
        "num=0\n",
        "if num>0:\n",
        "  print(\"positive\")\n",
        "elif num<0:\n",
        "  print(\"negative\")\n",
        "else:\n",
        "  print(\"zero\")"
      ],
      "metadata": {
        "colab": {
          "base_uri": "https://localhost:8080/"
        },
        "id": "l7YEiyoNhewi",
        "outputId": "e6b89a17-cc80-408c-f93a-ff8aac3ca50d"
      },
      "execution_count": 15,
      "outputs": [
        {
          "output_type": "stream",
          "name": "stdout",
          "text": [
            "zero\n"
          ]
        }
      ]
    },
    {
      "cell_type": "code",
      "source": [
        "#12.Write a for loop to print numbers from 1 to 10\n",
        "for num"
      ],
      "metadata": {
        "id": "zRRPSI6WipGU"
      },
      "execution_count": null,
      "outputs": []
    }
  ]
}